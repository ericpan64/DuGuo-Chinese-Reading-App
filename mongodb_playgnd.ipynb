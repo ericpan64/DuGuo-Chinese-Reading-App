{
 "cells": [
  {
   "cell_type": "code",
   "execution_count": 1,
   "metadata": {
    "collapsed": true
   },
   "outputs": [],
   "source": [
    "# Get MongoDB to work in Python\n",
    "# Tutorial Link: http://api.mongodb.com/python/3.6.0/tutorial.html\n",
    "from pymongo import MongoClient"
   ]
  },
  {
   "cell_type": "code",
   "execution_count": 2,
   "metadata": {
    "collapsed": true
   },
   "outputs": [],
   "source": [
    "# import datetime as dt\n",
    "client = MongoClient(\"mongodb://localhost:27017/\") # Default IP address\n",
    "db = client.test_database\n",
    "collection = db.test_colletion"
   ]
  },
  {
   "cell_type": "code",
   "execution_count": 3,
   "metadata": {
    "collapsed": true
   },
   "outputs": [],
   "source": [
    "test_list = [{\"user\": \"Eric\", \"body\": \"Ni hao 你好\"},\n",
    "            {\"user\": \"Billy\", \"body\": \"为蛇么\", \"newParam\": 1}]"
   ]
  },
  {
   "cell_type": "code",
   "execution_count": 4,
   "metadata": {
    "collapsed": true
   },
   "outputs": [],
   "source": [
    "# Bulk insert\n",
    "# docs = collection.insert_many(test_list) "
   ]
  },
  {
   "cell_type": "code",
   "execution_count": 5,
   "metadata": {},
   "outputs": [
    {
     "name": "stdout",
     "output_type": "stream",
     "text": [
      "{'_id': ObjectId('5caa738f8f01c9675e0e5c56'), 'user': 'Eric', 'body': 'Ni hao 你好', 'entryTime': datetime.datetime(2019, 4, 7, 22, 2, 55, 52000)}\n",
      "{'_id': ObjectId('5caa73b18f01c9676309e944'), 'user': 'Eric', 'body': 'Ni hao 你好', 'entryTime': datetime.datetime(2019, 4, 7, 22, 3, 29, 710000)}\n",
      "{'_id': ObjectId('5caa74058f01c9679d27c0a1'), 'user': 'Eric', 'body': 'Ni hao 你好', 'entryTime': datetime.datetime(2019, 4, 7, 22, 4, 53, 742000)}\n",
      "{'_id': ObjectId('5caa78528f01c968b2ebc5d0'), 'user': 'Eric', 'body': 'Ni hao 你好', 'entryTime': datetime.datetime(2019, 4, 7, 22, 23, 14, 486000)}\n",
      "{'_id': ObjectId('5caa78528f01c968b2ebc5d1'), 'user': 'Bully', 'body': '为蛇么', 'newParam': 1}\n",
      "{'_id': ObjectId('5caa786b8f01c968b7c8f290'), 'user': 'Eric', 'body': 'Ni hao 你好'}\n",
      "{'_id': ObjectId('5caa786b8f01c968b7c8f291'), 'user': 'Bully', 'body': '为蛇么', 'newParam': 1}\n",
      "{'_id': ObjectId('5cb3a5868f01c90afd0b9a68'), 'user': 'Eric', 'body': 'Ni hao 你好'}\n",
      "{'_id': ObjectId('5cb3a5868f01c90afd0b9a69'), 'user': 'Billy', 'body': '为蛇么', 'newParam': 1}\n"
     ]
    }
   ],
   "source": [
    "# Bulk query\n",
    "for doc in collection.find():  \n",
    "    print(doc)"
   ]
  },
  {
   "cell_type": "code",
   "execution_count": 7,
   "metadata": {},
   "outputs": [
    {
     "name": "stdout",
     "output_type": "stream",
     "text": [
      "5cb3a7608f01c90be735a78b\n",
      "{'_id': ObjectId('5cb3a7608f01c90be735a78b'), 'user': 'Tester', 'body': '这个 i 报告'}\n"
     ]
    }
   ],
   "source": [
    "# Testing ID query code\n",
    "test = {\"user\": \"Tester\", \"body\":\"这个 i 报告\"}\n",
    "test_id = collection.insert_one(test).inserted_id\n",
    "print(test_id)\n",
    "print(collection.find_one({\"_id\":test_id}))"
   ]
  },
  {
   "cell_type": "code",
   "execution_count": null,
   "metadata": {
    "collapsed": true
   },
   "outputs": [],
   "source": []
  }
 ],
 "metadata": {
  "kernelspec": {
   "display_name": "Python 3",
   "language": "python",
   "name": "python3"
  },
  "language_info": {
   "codemirror_mode": {
    "name": "ipython",
    "version": 3
   },
   "file_extension": ".py",
   "mimetype": "text/x-python",
   "name": "python",
   "nbconvert_exporter": "python",
   "pygments_lexer": "ipython3",
   "version": "3.6.3"
  }
 },
 "nbformat": 4,
 "nbformat_minor": 2
}
