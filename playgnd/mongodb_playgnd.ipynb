{
 "cells": [
  {
   "cell_type": "code",
   "execution_count": 1,
   "metadata": {
    "collapsed": true
   },
   "outputs": [],
   "source": [
    "# Get MongoDB to work in Python\n",
    "# Tutorial Link (pymongo): http://api.mongodb.com/python/3.6.0/tutorial.html\n",
    "# Tutorial Link (mongoengine): http://docs.mongoengine.org/tutorial.html\n",
    "# Mongoengine uses pymongo AND provides object mapping (from JSON to python objects)\n",
    "import mongoengine\n",
    "import datetime"
   ]
  },
  {
   "cell_type": "code",
   "execution_count": 5,
   "metadata": {
    "collapsed": true
   },
   "outputs": [],
   "source": [
    "from pymongo import MongoClient\n",
    "# import datetime as dt\n",
    "client = MongoClient(\"mongodb://localhost:27017/\") # Default IP address\n",
    "db = client.test_database\n",
    "collection = db.test_colletion"
   ]
  },
  {
   "cell_type": "code",
   "execution_count": 14,
   "metadata": {
    "collapsed": true
   },
   "outputs": [],
   "source": [
    "# mongoengine add\n",
    "mongoengine.register_connection(alias='core', name='zwDB')"
   ]
  },
  {
   "cell_type": "code",
   "execution_count": 6,
   "metadata": {},
   "outputs": [
    {
     "name": "stdout",
     "output_type": "stream",
     "text": [
      "{'_id': ObjectId('5caa738f8f01c9675e0e5c56'), 'user': 'Eric', 'body': 'Ni hao 你好', 'entryTime': datetime.datetime(2019, 4, 7, 22, 2, 55, 52000)}\n",
      "{'_id': ObjectId('5caa73b18f01c9676309e944'), 'user': 'Eric', 'body': 'Ni hao 你好', 'entryTime': datetime.datetime(2019, 4, 7, 22, 3, 29, 710000)}\n",
      "{'_id': ObjectId('5caa74058f01c9679d27c0a1'), 'user': 'Eric', 'body': 'Ni hao 你好', 'entryTime': datetime.datetime(2019, 4, 7, 22, 4, 53, 742000)}\n",
      "{'_id': ObjectId('5caa78528f01c968b2ebc5d0'), 'user': 'Eric', 'body': 'Ni hao 你好', 'entryTime': datetime.datetime(2019, 4, 7, 22, 23, 14, 486000)}\n",
      "{'_id': ObjectId('5caa78528f01c968b2ebc5d1'), 'user': 'Bully', 'body': '为蛇么', 'newParam': 1}\n",
      "{'_id': ObjectId('5caa786b8f01c968b7c8f290'), 'user': 'Eric', 'body': 'Ni hao 你好'}\n",
      "{'_id': ObjectId('5caa786b8f01c968b7c8f291'), 'user': 'Bully', 'body': '为蛇么', 'newParam': 1}\n",
      "{'_id': ObjectId('5cb3a5868f01c90afd0b9a68'), 'user': 'Eric', 'body': 'Ni hao 你好'}\n",
      "{'_id': ObjectId('5cb3a5868f01c90afd0b9a69'), 'user': 'Billy', 'body': '为蛇么', 'newParam': 1}\n",
      "{'_id': ObjectId('5cb3a7608f01c90be735a78b'), 'user': 'Tester', 'body': '这个 i 报告'}\n"
     ]
    }
   ],
   "source": [
    "# Bulk query\n",
    "for doc in collection.find():  \n",
    "    print(doc)"
   ]
  },
  {
   "cell_type": "code",
   "execution_count": 7,
   "metadata": {},
   "outputs": [
    {
     "name": "stdout",
     "output_type": "stream",
     "text": [
      "5cb3a7608f01c90be735a78b\n",
      "{'_id': ObjectId('5cb3a7608f01c90be735a78b'), 'user': 'Tester', 'body': '这个 i 报告'}\n"
     ]
    }
   ],
   "source": [
    "# Testing ID query code\n",
    "test = {\"user\": \"Tester\", \"body\":\"这个 i 报告\"}\n",
    "test_id = collection.insert_one(test).inserted_id\n",
    "print(test_id)\n",
    "print(collection.find_one({\"_id\":test_id}))"
   ]
  },
  {
   "cell_type": "code",
   "execution_count": 10,
   "metadata": {},
   "outputs": [
    {
     "name": "stdout",
     "output_type": "stream",
     "text": [
      "Tester\n"
     ]
    }
   ],
   "source": [
    "print(doc['user'])"
   ]
  },
  {
   "cell_type": "code",
   "execution_count": null,
   "metadata": {
    "collapsed": true
   },
   "outputs": [],
   "source": [
    "# Mongoengine implementation"
   ]
  },
  {
   "cell_type": "code",
   "execution_count": 3,
   "metadata": {
    "collapsed": true,
    "scrolled": true
   },
   "outputs": [],
   "source": [
    "from mongoengine import Document,StringField\n",
    "client = mongoengine.connect('test')"
   ]
  },
  {
   "cell_type": "code",
   "execution_count": 4,
   "metadata": {},
   "outputs": [],
   "source": [
    "class CEDICT(Document):\n",
    "    \"\"\"CC-CEDICT mapping in database. This gets loaded when the application starts\"\"\"\n",
    "    traditional = StringField(required=True)\n",
    "    simplified = StringField(required=True)\n",
    "    pinyin = StringField(required=True)\n",
    "    definition = StringField(required=True)"
   ]
  },
  {
   "cell_type": "code",
   "execution_count": 5,
   "metadata": {},
   "outputs": [
    {
     "name": "stdout",
     "output_type": "stream",
     "text": [
      "Database(MongoClient(host=['localhost:27017'], document_class=dict, tz_aware=False, connect=True, read_preference=Primary()), 'test_database_mongoEngine')\n"
     ]
    }
   ],
   "source": [
    "db = client.test_database_mongoEngine\n",
    "print(db)\n",
    "collection=db.new_test_collection\n",
    "test = {\"user\": \"Tester\", \"body\":\"这个 i 报告\"}\n",
    "test_id = collection.insert_one(test).inserted_id"
   ]
  },
  {
   "cell_type": "code",
   "execution_count": 7,
   "metadata": {},
   "outputs": [
    {
     "name": "stdout",
     "output_type": "stream",
     "text": [
      "<pymongo.cursor.Cursor object at 0x103b65b00>\n"
     ]
    }
   ],
   "source": [
    "find_query = collection.find({\"user\":\"Tester\"})[0] # Find query is indexed. Returns list of all matches\n",
    "print(find_query) # Len of collection object = number of key-value pairs"
   ]
  },
  {
   "cell_type": "code",
   "execution_count": 9,
   "metadata": {},
   "outputs": [
    {
     "data": {
      "text/plain": [
       "<CEDICT: CEDICT object>"
      ]
     },
     "execution_count": 9,
     "metadata": {},
     "output_type": "execute_result"
    }
   ],
   "source": [
    "test_cedict = CEDICT('a','b','pinyin','def')\n",
    "test_cedict.save()"
   ]
  },
  {
   "cell_type": "code",
   "execution_count": 126,
   "metadata": {
    "collapsed": true
   },
   "outputs": [],
   "source": [
    "# Equivalent of \"Collection\"\n",
    "engine_collection = CEDICT.objects()"
   ]
  },
  {
   "cell_type": "code",
   "execution_count": 13,
   "metadata": {},
   "outputs": [
    {
     "name": "stdout",
     "output_type": "stream",
     "text": [
      "[<CEDICT: CEDICT object>, <CEDICT: CEDICT object>]\n",
      "5\n",
      "[{\"_id\": {\"$oid\": \"5cc668688f01c936cc7850ff\"}, \"traditional\": \"a\", \"simplified\": \"b\", \"pinyin\": \"pinyin\", \"definition\": \"def\"}, {\"_id\": {\"$oid\": \"5cc6687a8f01c936cc785100\"}, \"traditional\": \"a\", \"simplified\": \"b\", \"pinyin\": \"pinyin\", \"definition\": \"def\"}]\n"
     ]
    }
   ],
   "source": [
    "# Query in mongodb\n",
    "print(CEDICT.objects())\n",
    "print(len(CEDICT.objects(traditional=\"a\").as_pymongo()[0]))\n",
    "print(CEDICT.objects(traditional=\"a\").to_json())"
   ]
  },
  {
   "cell_type": "code",
   "execution_count": 116,
   "metadata": {},
   "outputs": [
    {
     "data": {
      "text/plain": [
       "1"
      ]
     },
     "execution_count": 116,
     "metadata": {},
     "output_type": "execute_result"
    }
   ],
   "source": [
    "CEDICT.objects(pinyin=\"pinyin\").update(pinyin=\"AAAAAAAAA\") # update changes ALL matching objects"
   ]
  },
  {
   "cell_type": "code",
   "execution_count": 111,
   "metadata": {
    "collapsed": true
   },
   "outputs": [],
   "source": [
    "tester = CEDICT.objects().first()"
   ]
  },
  {
   "cell_type": "code",
   "execution_count": 115,
   "metadata": {},
   "outputs": [
    {
     "name": "stdout",
     "output_type": "stream",
     "text": [
      "changed\n"
     ]
    }
   ],
   "source": [
    "print(tester.pinyin)"
   ]
  },
  {
   "cell_type": "code",
   "execution_count": null,
   "metadata": {
    "collapsed": true
   },
   "outputs": [],
   "source": [
    ""
   ]
  }
 ],
 "metadata": {
  "kernelspec": {
   "display_name": "Python 3",
   "language": "python",
   "name": "python3"
  },
  "language_info": {
   "codemirror_mode": {
    "name": "ipython",
    "version": 3.0
   },
   "file_extension": ".py",
   "mimetype": "text/x-python",
   "name": "python",
   "nbconvert_exporter": "python",
   "pygments_lexer": "ipython3",
   "version": "3.6.3"
  }
 },
 "nbformat": 4,
 "nbformat_minor": 0
}